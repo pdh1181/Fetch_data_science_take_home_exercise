{
 "cells": [
  {
   "cell_type": "code",
   "execution_count": 1,
   "metadata": {},
   "outputs": [],
   "source": [
    "import pandas as pd\n",
    "import numpy as np\n",
    "\n",
    "import warnings\n",
    "warnings.filterwarnings(\"ignore\")\n"
   ]
  },
  {
   "cell_type": "code",
   "execution_count": 2,
   "metadata": {},
   "outputs": [
    {
     "data": {
      "text/html": [
       "<div>\n",
       "<style scoped>\n",
       "    .dataframe tbody tr th:only-of-type {\n",
       "        vertical-align: middle;\n",
       "    }\n",
       "\n",
       "    .dataframe tbody tr th {\n",
       "        vertical-align: top;\n",
       "    }\n",
       "\n",
       "    .dataframe thead th {\n",
       "        text-align: right;\n",
       "    }\n",
       "</style>\n",
       "<table border=\"1\" class=\"dataframe\">\n",
       "  <thead>\n",
       "    <tr style=\"text-align: right;\">\n",
       "      <th></th>\n",
       "      <th>BRAND</th>\n",
       "      <th>BRAND_BELONGS_TO_CATEGORY</th>\n",
       "      <th>RECEIPTS</th>\n",
       "    </tr>\n",
       "  </thead>\n",
       "  <tbody>\n",
       "    <tr>\n",
       "      <th>0</th>\n",
       "      <td>CASEYS GEN STORE</td>\n",
       "      <td>Tobacco Products</td>\n",
       "      <td>2950931</td>\n",
       "    </tr>\n",
       "    <tr>\n",
       "      <th>1</th>\n",
       "      <td>CASEYS GEN STORE</td>\n",
       "      <td>Mature</td>\n",
       "      <td>2859240</td>\n",
       "    </tr>\n",
       "    <tr>\n",
       "      <th>2</th>\n",
       "      <td>EQUATE</td>\n",
       "      <td>Hair Removal</td>\n",
       "      <td>893268</td>\n",
       "    </tr>\n",
       "    <tr>\n",
       "      <th>3</th>\n",
       "      <td>PALMOLIVE</td>\n",
       "      <td>Bath &amp; Body</td>\n",
       "      <td>542562</td>\n",
       "    </tr>\n",
       "    <tr>\n",
       "      <th>4</th>\n",
       "      <td>DAWN</td>\n",
       "      <td>Bath &amp; Body</td>\n",
       "      <td>301844</td>\n",
       "    </tr>\n",
       "  </tbody>\n",
       "</table>\n",
       "</div>"
      ],
      "text/plain": [
       "              BRAND BRAND_BELONGS_TO_CATEGORY  RECEIPTS\n",
       "0  CASEYS GEN STORE          Tobacco Products   2950931\n",
       "1  CASEYS GEN STORE                    Mature   2859240\n",
       "2            EQUATE              Hair Removal    893268\n",
       "3         PALMOLIVE               Bath & Body    542562\n",
       "4              DAWN               Bath & Body    301844"
      ]
     },
     "execution_count": 2,
     "metadata": {},
     "output_type": "execute_result"
    }
   ],
   "source": [
    "brand_category = pd.read_csv(\"brand_category.csv\")\n",
    "brand_category.head(5)"
   ]
  },
  {
   "cell_type": "code",
   "execution_count": 3,
   "metadata": {},
   "outputs": [
    {
     "data": {
      "text/html": [
       "<div>\n",
       "<style scoped>\n",
       "    .dataframe tbody tr th:only-of-type {\n",
       "        vertical-align: middle;\n",
       "    }\n",
       "\n",
       "    .dataframe tbody tr th {\n",
       "        vertical-align: top;\n",
       "    }\n",
       "\n",
       "    .dataframe thead th {\n",
       "        text-align: right;\n",
       "    }\n",
       "</style>\n",
       "<table border=\"1\" class=\"dataframe\">\n",
       "  <thead>\n",
       "    <tr style=\"text-align: right;\">\n",
       "      <th></th>\n",
       "      <th>CATEGORY_ID</th>\n",
       "      <th>PRODUCT_CATEGORY</th>\n",
       "      <th>IS_CHILD_CATEGORY_TO</th>\n",
       "    </tr>\n",
       "  </thead>\n",
       "  <tbody>\n",
       "    <tr>\n",
       "      <th>0</th>\n",
       "      <td>1f7d2fa7-a1d7-4969-aaf4-1244f232c175</td>\n",
       "      <td>Red Pasta Sauce</td>\n",
       "      <td>Pasta Sauce</td>\n",
       "    </tr>\n",
       "    <tr>\n",
       "      <th>1</th>\n",
       "      <td>3e48a9b3-1ab2-4f2d-867d-4a30828afeab</td>\n",
       "      <td>Alfredo &amp; White Pasta Sauce</td>\n",
       "      <td>Pasta Sauce</td>\n",
       "    </tr>\n",
       "    <tr>\n",
       "      <th>2</th>\n",
       "      <td>09f3decc-aa93-460d-936c-0ddf06b055a3</td>\n",
       "      <td>Cooking &amp; Baking</td>\n",
       "      <td>Pantry</td>\n",
       "    </tr>\n",
       "    <tr>\n",
       "      <th>3</th>\n",
       "      <td>12a89b18-4c01-4048-94b2-0705e0a45f6b</td>\n",
       "      <td>Packaged Seafood</td>\n",
       "      <td>Pantry</td>\n",
       "    </tr>\n",
       "    <tr>\n",
       "      <th>4</th>\n",
       "      <td>2caa015a-ca32-4456-a086-621446238783</td>\n",
       "      <td>Feminine Hygeine</td>\n",
       "      <td>Health &amp; Wellness</td>\n",
       "    </tr>\n",
       "  </tbody>\n",
       "</table>\n",
       "</div>"
      ],
      "text/plain": [
       "                            CATEGORY_ID             PRODUCT_CATEGORY  \\\n",
       "0  1f7d2fa7-a1d7-4969-aaf4-1244f232c175              Red Pasta Sauce   \n",
       "1  3e48a9b3-1ab2-4f2d-867d-4a30828afeab  Alfredo & White Pasta Sauce   \n",
       "2  09f3decc-aa93-460d-936c-0ddf06b055a3             Cooking & Baking   \n",
       "3  12a89b18-4c01-4048-94b2-0705e0a45f6b             Packaged Seafood   \n",
       "4  2caa015a-ca32-4456-a086-621446238783             Feminine Hygeine   \n",
       "\n",
       "  IS_CHILD_CATEGORY_TO  \n",
       "0          Pasta Sauce  \n",
       "1          Pasta Sauce  \n",
       "2               Pantry  \n",
       "3               Pantry  \n",
       "4    Health & Wellness  "
      ]
     },
     "execution_count": 3,
     "metadata": {},
     "output_type": "execute_result"
    }
   ],
   "source": [
    "categories = pd.read_csv(\"categories.csv\")\n",
    "categories.head(5)"
   ]
  },
  {
   "cell_type": "code",
   "execution_count": 4,
   "metadata": {},
   "outputs": [
    {
     "data": {
      "text/html": [
       "<div>\n",
       "<style scoped>\n",
       "    .dataframe tbody tr th:only-of-type {\n",
       "        vertical-align: middle;\n",
       "    }\n",
       "\n",
       "    .dataframe tbody tr th {\n",
       "        vertical-align: top;\n",
       "    }\n",
       "\n",
       "    .dataframe thead th {\n",
       "        text-align: right;\n",
       "    }\n",
       "</style>\n",
       "<table border=\"1\" class=\"dataframe\">\n",
       "  <thead>\n",
       "    <tr style=\"text-align: right;\">\n",
       "      <th></th>\n",
       "      <th>OFFER</th>\n",
       "      <th>RETAILER</th>\n",
       "      <th>BRAND</th>\n",
       "    </tr>\n",
       "  </thead>\n",
       "  <tbody>\n",
       "    <tr>\n",
       "      <th>0</th>\n",
       "      <td>Spend $50 on a Full-Priced new Club Membership</td>\n",
       "      <td>SAMS CLUB</td>\n",
       "      <td>SAMS CLUB</td>\n",
       "    </tr>\n",
       "    <tr>\n",
       "      <th>1</th>\n",
       "      <td>Beyond Meat® Plant-Based products, spend $25</td>\n",
       "      <td>NaN</td>\n",
       "      <td>BEYOND MEAT</td>\n",
       "    </tr>\n",
       "    <tr>\n",
       "      <th>2</th>\n",
       "      <td>Good Humor Viennetta Frozen Vanilla Cake</td>\n",
       "      <td>NaN</td>\n",
       "      <td>GOOD HUMOR</td>\n",
       "    </tr>\n",
       "    <tr>\n",
       "      <th>3</th>\n",
       "      <td>Butterball, select varieties, spend $10 at Dil...</td>\n",
       "      <td>DILLONS FOOD STORE</td>\n",
       "      <td>BUTTERBALL</td>\n",
       "    </tr>\n",
       "    <tr>\n",
       "      <th>4</th>\n",
       "      <td>GATORADE® Fast Twitch®, 12-ounce 12 pack, at A...</td>\n",
       "      <td>AMAZON</td>\n",
       "      <td>GATORADE</td>\n",
       "    </tr>\n",
       "  </tbody>\n",
       "</table>\n",
       "</div>"
      ],
      "text/plain": [
       "                                               OFFER            RETAILER  \\\n",
       "0     Spend $50 on a Full-Priced new Club Membership           SAMS CLUB   \n",
       "1       Beyond Meat® Plant-Based products, spend $25                 NaN   \n",
       "2           Good Humor Viennetta Frozen Vanilla Cake                 NaN   \n",
       "3  Butterball, select varieties, spend $10 at Dil...  DILLONS FOOD STORE   \n",
       "4  GATORADE® Fast Twitch®, 12-ounce 12 pack, at A...              AMAZON   \n",
       "\n",
       "         BRAND  \n",
       "0    SAMS CLUB  \n",
       "1  BEYOND MEAT  \n",
       "2   GOOD HUMOR  \n",
       "3   BUTTERBALL  \n",
       "4     GATORADE  "
      ]
     },
     "execution_count": 4,
     "metadata": {},
     "output_type": "execute_result"
    }
   ],
   "source": [
    "offer_retailer = pd.read_csv(\"offer_retailer.csv\")\n",
    "offer_retailer.head(5)"
   ]
  },
  {
   "cell_type": "code",
   "execution_count": 5,
   "metadata": {},
   "outputs": [
    {
     "name": "stdout",
     "output_type": "stream",
     "text": [
      "Brand Catogery Data\n",
      " BRAND                        1\n",
      "BRAND_BELONGS_TO_CATEGORY    0\n",
      "RECEIPTS                     0\n",
      "dtype: int64\n",
      "------------------------------\n",
      "categories data\n",
      " CATEGORY_ID             0\n",
      "PRODUCT_CATEGORY        0\n",
      "IS_CHILD_CATEGORY_TO    0\n",
      "dtype: int64\n",
      "------------------------------\n",
      "offer retailer data\n",
      " OFFER         0\n",
      "RETAILER    146\n",
      "BRAND         0\n",
      "dtype: int64\n"
     ]
    }
   ],
   "source": [
    "print('Brand Catogery Data\\n',brand_category.isnull().sum())\n",
    "print('-'*30)\n",
    "print('categories data\\n',categories.isnull().sum())\n",
    "print('-'*30)\n",
    "print('offer retailer data\\n',offer_retailer.isnull().sum())"
   ]
  },
  {
   "cell_type": "code",
   "execution_count": 6,
   "metadata": {},
   "outputs": [
    {
     "name": "stdout",
     "output_type": "stream",
     "text": [
      "9906\n",
      "118\n",
      "384\n"
     ]
    }
   ],
   "source": [
    "print(len(brand_category))\n",
    "print(len(categories))\n",
    "print(len(offer_retailer))"
   ]
  },
  {
   "cell_type": "code",
   "execution_count": 7,
   "metadata": {},
   "outputs": [
    {
     "data": {
      "text/html": [
       "<div>\n",
       "<style scoped>\n",
       "    .dataframe tbody tr th:only-of-type {\n",
       "        vertical-align: middle;\n",
       "    }\n",
       "\n",
       "    .dataframe tbody tr th {\n",
       "        vertical-align: top;\n",
       "    }\n",
       "\n",
       "    .dataframe thead th {\n",
       "        text-align: right;\n",
       "    }\n",
       "</style>\n",
       "<table border=\"1\" class=\"dataframe\">\n",
       "  <thead>\n",
       "    <tr style=\"text-align: right;\">\n",
       "      <th></th>\n",
       "      <th>OFFER</th>\n",
       "      <th>RETAILER</th>\n",
       "      <th>BRAND</th>\n",
       "    </tr>\n",
       "  </thead>\n",
       "  <tbody>\n",
       "    <tr>\n",
       "      <th>1</th>\n",
       "      <td>Beyond Meat® Plant-Based products, spend $25</td>\n",
       "      <td>NaN</td>\n",
       "      <td>BEYOND MEAT</td>\n",
       "    </tr>\n",
       "    <tr>\n",
       "      <th>2</th>\n",
       "      <td>Good Humor Viennetta Frozen Vanilla Cake</td>\n",
       "      <td>NaN</td>\n",
       "      <td>GOOD HUMOR</td>\n",
       "    </tr>\n",
       "    <tr>\n",
       "      <th>5</th>\n",
       "      <td>Emmy's Organics® Cookies OR Brownie Snaps</td>\n",
       "      <td>NaN</td>\n",
       "      <td>EMMYS POP UP</td>\n",
       "    </tr>\n",
       "    <tr>\n",
       "      <th>8</th>\n",
       "      <td>Barilla® Pesto Sauce</td>\n",
       "      <td>NaN</td>\n",
       "      <td>BARILLA</td>\n",
       "    </tr>\n",
       "    <tr>\n",
       "      <th>9</th>\n",
       "      <td>Any General Mills™ products, buy 2\\nGood Rewar...</td>\n",
       "      <td>NaN</td>\n",
       "      <td>ANNIES HOMEGROWN GROCERY</td>\n",
       "    </tr>\n",
       "    <tr>\n",
       "      <th>13</th>\n",
       "      <td>DOVE® Chocolate, select sizes, buy 1</td>\n",
       "      <td>NaN</td>\n",
       "      <td>DOVE CHOCOLATE</td>\n",
       "    </tr>\n",
       "    <tr>\n",
       "      <th>14</th>\n",
       "      <td>Hellmann's® OR Best Foods® Garlic Aioli OR Spi...</td>\n",
       "      <td>NaN</td>\n",
       "      <td>HELLMANNS BEST FOODS</td>\n",
       "    </tr>\n",
       "    <tr>\n",
       "      <th>15</th>\n",
       "      <td>M&amp;M'S®, select sizes, buy 1</td>\n",
       "      <td>NaN</td>\n",
       "      <td>M&amp;MS</td>\n",
       "    </tr>\n",
       "    <tr>\n",
       "      <th>16</th>\n",
       "      <td>GATORLYTE® OR GATORADE™ Fit Single Serve Bottl...</td>\n",
       "      <td>NaN</td>\n",
       "      <td>GATORADE</td>\n",
       "    </tr>\n",
       "    <tr>\n",
       "      <th>18</th>\n",
       "      <td>Red Gold Tomato Ketchup</td>\n",
       "      <td>NaN</td>\n",
       "      <td>RED GOLD</td>\n",
       "    </tr>\n",
       "    <tr>\n",
       "      <th>19</th>\n",
       "      <td>Gillette Venus ® for Pubic Hair &amp; Skin spend $20</td>\n",
       "      <td>NaN</td>\n",
       "      <td>GILLETTE VENUS</td>\n",
       "    </tr>\n",
       "    <tr>\n",
       "      <th>22</th>\n",
       "      <td>Simply Spiked™ Lemonade 12 pack+</td>\n",
       "      <td>NaN</td>\n",
       "      <td>SIMPLY SPIKED</td>\n",
       "    </tr>\n",
       "    <tr>\n",
       "      <th>33</th>\n",
       "      <td>Tru-Ray® Premium Construction Paper, spend $10</td>\n",
       "      <td>NaN</td>\n",
       "      <td>TRURAY</td>\n",
       "    </tr>\n",
       "    <tr>\n",
       "      <th>37</th>\n",
       "      <td>CESAR® Wet Dog Food, spend $20</td>\n",
       "      <td>NaN</td>\n",
       "      <td>CESAR</td>\n",
       "    </tr>\n",
       "    <tr>\n",
       "      <th>38</th>\n",
       "      <td>TWIX®, select sizes</td>\n",
       "      <td>NaN</td>\n",
       "      <td>TWIX</td>\n",
       "    </tr>\n",
       "  </tbody>\n",
       "</table>\n",
       "</div>"
      ],
      "text/plain": [
       "                                                OFFER RETAILER  \\\n",
       "1        Beyond Meat® Plant-Based products, spend $25      NaN   \n",
       "2            Good Humor Viennetta Frozen Vanilla Cake      NaN   \n",
       "5           Emmy's Organics® Cookies OR Brownie Snaps      NaN   \n",
       "8                                Barilla® Pesto Sauce      NaN   \n",
       "9   Any General Mills™ products, buy 2\\nGood Rewar...      NaN   \n",
       "13               DOVE® Chocolate, select sizes, buy 1      NaN   \n",
       "14  Hellmann's® OR Best Foods® Garlic Aioli OR Spi...      NaN   \n",
       "15                        M&M'S®, select sizes, buy 1      NaN   \n",
       "16  GATORLYTE® OR GATORADE™ Fit Single Serve Bottl...      NaN   \n",
       "18                            Red Gold Tomato Ketchup      NaN   \n",
       "19   Gillette Venus ® for Pubic Hair & Skin spend $20      NaN   \n",
       "22                   Simply Spiked™ Lemonade 12 pack+      NaN   \n",
       "33     Tru-Ray® Premium Construction Paper, spend $10      NaN   \n",
       "37                     CESAR® Wet Dog Food, spend $20      NaN   \n",
       "38                                TWIX®, select sizes      NaN   \n",
       "\n",
       "                       BRAND  \n",
       "1                BEYOND MEAT  \n",
       "2                 GOOD HUMOR  \n",
       "5               EMMYS POP UP  \n",
       "8                    BARILLA  \n",
       "9   ANNIES HOMEGROWN GROCERY  \n",
       "13            DOVE CHOCOLATE  \n",
       "14      HELLMANNS BEST FOODS  \n",
       "15                      M&MS  \n",
       "16                  GATORADE  \n",
       "18                  RED GOLD  \n",
       "19            GILLETTE VENUS  \n",
       "22             SIMPLY SPIKED  \n",
       "33                    TRURAY  \n",
       "37                     CESAR  \n",
       "38                      TWIX  "
      ]
     },
     "execution_count": 7,
     "metadata": {},
     "output_type": "execute_result"
    }
   ],
   "source": [
    "df = offer_retailer[offer_retailer.isnull().any(axis=1)]\n",
    "df.head(15)"
   ]
  },
  {
   "cell_type": "code",
   "execution_count": 8,
   "metadata": {},
   "outputs": [],
   "source": [
    "df['RETAILER'] = df['OFFER'].str.extract(r'(.+?)®')"
   ]
  },
  {
   "cell_type": "code",
   "execution_count": 9,
   "metadata": {},
   "outputs": [
    {
     "data": {
      "text/plain": [
       "OFFER        0\n",
       "RETAILER    40\n",
       "BRAND        0\n",
       "dtype: int64"
      ]
     },
     "execution_count": 9,
     "metadata": {},
     "output_type": "execute_result"
    }
   ],
   "source": [
    "df.isnull().sum()"
   ]
  },
  {
   "cell_type": "code",
   "execution_count": 10,
   "metadata": {},
   "outputs": [],
   "source": [
    "df['RETAILER'].fillna(df['BRAND'], inplace=True)"
   ]
  },
  {
   "cell_type": "code",
   "execution_count": 11,
   "metadata": {},
   "outputs": [
    {
     "data": {
      "text/plain": [
       "OFFER       0\n",
       "RETAILER    0\n",
       "BRAND       0\n",
       "dtype: int64"
      ]
     },
     "execution_count": 11,
     "metadata": {},
     "output_type": "execute_result"
    }
   ],
   "source": [
    "df.isnull().sum()"
   ]
  },
  {
   "cell_type": "code",
   "execution_count": 12,
   "metadata": {},
   "outputs": [],
   "source": [
    "df['RETAILER'] = df['RETAILER'].str.replace(\"'\", \"\")"
   ]
  },
  {
   "cell_type": "code",
   "execution_count": 13,
   "metadata": {},
   "outputs": [
    {
     "data": {
      "text/html": [
       "<div>\n",
       "<style scoped>\n",
       "    .dataframe tbody tr th:only-of-type {\n",
       "        vertical-align: middle;\n",
       "    }\n",
       "\n",
       "    .dataframe tbody tr th {\n",
       "        vertical-align: top;\n",
       "    }\n",
       "\n",
       "    .dataframe thead th {\n",
       "        text-align: right;\n",
       "    }\n",
       "</style>\n",
       "<table border=\"1\" class=\"dataframe\">\n",
       "  <thead>\n",
       "    <tr style=\"text-align: right;\">\n",
       "      <th></th>\n",
       "      <th>OFFER</th>\n",
       "      <th>RETAILER</th>\n",
       "      <th>BRAND</th>\n",
       "    </tr>\n",
       "  </thead>\n",
       "  <tbody>\n",
       "    <tr>\n",
       "      <th>1</th>\n",
       "      <td>Beyond Meat® Plant-Based products, spend $25</td>\n",
       "      <td>Beyond Meat</td>\n",
       "      <td>BEYOND MEAT</td>\n",
       "    </tr>\n",
       "    <tr>\n",
       "      <th>2</th>\n",
       "      <td>Good Humor Viennetta Frozen Vanilla Cake</td>\n",
       "      <td>GOOD HUMOR</td>\n",
       "      <td>GOOD HUMOR</td>\n",
       "    </tr>\n",
       "    <tr>\n",
       "      <th>5</th>\n",
       "      <td>Emmy's Organics® Cookies OR Brownie Snaps</td>\n",
       "      <td>Emmys Organics</td>\n",
       "      <td>EMMYS POP UP</td>\n",
       "    </tr>\n",
       "    <tr>\n",
       "      <th>8</th>\n",
       "      <td>Barilla® Pesto Sauce</td>\n",
       "      <td>Barilla</td>\n",
       "      <td>BARILLA</td>\n",
       "    </tr>\n",
       "    <tr>\n",
       "      <th>9</th>\n",
       "      <td>Any General Mills™ products, buy 2\\nGood Rewar...</td>\n",
       "      <td>ANNIES HOMEGROWN GROCERY</td>\n",
       "      <td>ANNIES HOMEGROWN GROCERY</td>\n",
       "    </tr>\n",
       "    <tr>\n",
       "      <th>13</th>\n",
       "      <td>DOVE® Chocolate, select sizes, buy 1</td>\n",
       "      <td>DOVE</td>\n",
       "      <td>DOVE CHOCOLATE</td>\n",
       "    </tr>\n",
       "    <tr>\n",
       "      <th>14</th>\n",
       "      <td>Hellmann's® OR Best Foods® Garlic Aioli OR Spi...</td>\n",
       "      <td>Hellmanns</td>\n",
       "      <td>HELLMANNS BEST FOODS</td>\n",
       "    </tr>\n",
       "    <tr>\n",
       "      <th>15</th>\n",
       "      <td>M&amp;M'S®, select sizes, buy 1</td>\n",
       "      <td>M&amp;MS</td>\n",
       "      <td>M&amp;MS</td>\n",
       "    </tr>\n",
       "    <tr>\n",
       "      <th>16</th>\n",
       "      <td>GATORLYTE® OR GATORADE™ Fit Single Serve Bottl...</td>\n",
       "      <td>GATORLYTE</td>\n",
       "      <td>GATORADE</td>\n",
       "    </tr>\n",
       "    <tr>\n",
       "      <th>18</th>\n",
       "      <td>Red Gold Tomato Ketchup</td>\n",
       "      <td>RED GOLD</td>\n",
       "      <td>RED GOLD</td>\n",
       "    </tr>\n",
       "    <tr>\n",
       "      <th>19</th>\n",
       "      <td>Gillette Venus ® for Pubic Hair &amp; Skin spend $20</td>\n",
       "      <td>Gillette Venus</td>\n",
       "      <td>GILLETTE VENUS</td>\n",
       "    </tr>\n",
       "    <tr>\n",
       "      <th>22</th>\n",
       "      <td>Simply Spiked™ Lemonade 12 pack+</td>\n",
       "      <td>SIMPLY SPIKED</td>\n",
       "      <td>SIMPLY SPIKED</td>\n",
       "    </tr>\n",
       "    <tr>\n",
       "      <th>33</th>\n",
       "      <td>Tru-Ray® Premium Construction Paper, spend $10</td>\n",
       "      <td>Tru-Ray</td>\n",
       "      <td>TRURAY</td>\n",
       "    </tr>\n",
       "    <tr>\n",
       "      <th>37</th>\n",
       "      <td>CESAR® Wet Dog Food, spend $20</td>\n",
       "      <td>CESAR</td>\n",
       "      <td>CESAR</td>\n",
       "    </tr>\n",
       "    <tr>\n",
       "      <th>38</th>\n",
       "      <td>TWIX®, select sizes</td>\n",
       "      <td>TWIX</td>\n",
       "      <td>TWIX</td>\n",
       "    </tr>\n",
       "  </tbody>\n",
       "</table>\n",
       "</div>"
      ],
      "text/plain": [
       "                                                OFFER  \\\n",
       "1        Beyond Meat® Plant-Based products, spend $25   \n",
       "2            Good Humor Viennetta Frozen Vanilla Cake   \n",
       "5           Emmy's Organics® Cookies OR Brownie Snaps   \n",
       "8                                Barilla® Pesto Sauce   \n",
       "9   Any General Mills™ products, buy 2\\nGood Rewar...   \n",
       "13               DOVE® Chocolate, select sizes, buy 1   \n",
       "14  Hellmann's® OR Best Foods® Garlic Aioli OR Spi...   \n",
       "15                        M&M'S®, select sizes, buy 1   \n",
       "16  GATORLYTE® OR GATORADE™ Fit Single Serve Bottl...   \n",
       "18                            Red Gold Tomato Ketchup   \n",
       "19   Gillette Venus ® for Pubic Hair & Skin spend $20   \n",
       "22                   Simply Spiked™ Lemonade 12 pack+   \n",
       "33     Tru-Ray® Premium Construction Paper, spend $10   \n",
       "37                     CESAR® Wet Dog Food, spend $20   \n",
       "38                                TWIX®, select sizes   \n",
       "\n",
       "                    RETAILER                     BRAND  \n",
       "1                Beyond Meat               BEYOND MEAT  \n",
       "2                 GOOD HUMOR                GOOD HUMOR  \n",
       "5             Emmys Organics              EMMYS POP UP  \n",
       "8                    Barilla                   BARILLA  \n",
       "9   ANNIES HOMEGROWN GROCERY  ANNIES HOMEGROWN GROCERY  \n",
       "13                      DOVE            DOVE CHOCOLATE  \n",
       "14                 Hellmanns      HELLMANNS BEST FOODS  \n",
       "15                      M&MS                      M&MS  \n",
       "16                 GATORLYTE                  GATORADE  \n",
       "18                  RED GOLD                  RED GOLD  \n",
       "19           Gillette Venus             GILLETTE VENUS  \n",
       "22             SIMPLY SPIKED             SIMPLY SPIKED  \n",
       "33                   Tru-Ray                    TRURAY  \n",
       "37                     CESAR                     CESAR  \n",
       "38                      TWIX                      TWIX  "
      ]
     },
     "execution_count": 13,
     "metadata": {},
     "output_type": "execute_result"
    }
   ],
   "source": [
    "df.head(15)"
   ]
  },
  {
   "cell_type": "code",
   "execution_count": 14,
   "metadata": {},
   "outputs": [
    {
     "data": {
      "text/plain": [
       "BRAND                        0\n",
       "BRAND_BELONGS_TO_CATEGORY    0\n",
       "RECEIPTS                     0\n",
       "dtype: int64"
      ]
     },
     "execution_count": 14,
     "metadata": {},
     "output_type": "execute_result"
    }
   ],
   "source": [
    "brand_category.dropna(inplace=True)\n",
    "brand_category.isnull().sum()"
   ]
  },
  {
   "cell_type": "code",
   "execution_count": 15,
   "metadata": {},
   "outputs": [
    {
     "data": {
      "text/html": [
       "<div>\n",
       "<style scoped>\n",
       "    .dataframe tbody tr th:only-of-type {\n",
       "        vertical-align: middle;\n",
       "    }\n",
       "\n",
       "    .dataframe tbody tr th {\n",
       "        vertical-align: top;\n",
       "    }\n",
       "\n",
       "    .dataframe thead th {\n",
       "        text-align: right;\n",
       "    }\n",
       "</style>\n",
       "<table border=\"1\" class=\"dataframe\">\n",
       "  <thead>\n",
       "    <tr style=\"text-align: right;\">\n",
       "      <th></th>\n",
       "      <th>OFFER</th>\n",
       "      <th>RETAILER</th>\n",
       "      <th>BRAND</th>\n",
       "    </tr>\n",
       "  </thead>\n",
       "  <tbody>\n",
       "    <tr>\n",
       "      <th>0</th>\n",
       "      <td>Spend $50 on a Full-Priced new Club Membership</td>\n",
       "      <td>SAMS CLUB</td>\n",
       "      <td>SAMS CLUB</td>\n",
       "    </tr>\n",
       "    <tr>\n",
       "      <th>1</th>\n",
       "      <td>Beyond Meat® Plant-Based products, spend $25</td>\n",
       "      <td>Beyond Meat</td>\n",
       "      <td>BEYOND MEAT</td>\n",
       "    </tr>\n",
       "    <tr>\n",
       "      <th>2</th>\n",
       "      <td>Good Humor Viennetta Frozen Vanilla Cake</td>\n",
       "      <td>GOOD HUMOR</td>\n",
       "      <td>GOOD HUMOR</td>\n",
       "    </tr>\n",
       "    <tr>\n",
       "      <th>3</th>\n",
       "      <td>Butterball, select varieties, spend $10 at Dil...</td>\n",
       "      <td>DILLONS FOOD STORE</td>\n",
       "      <td>BUTTERBALL</td>\n",
       "    </tr>\n",
       "    <tr>\n",
       "      <th>4</th>\n",
       "      <td>GATORADE® Fast Twitch®, 12-ounce 12 pack, at A...</td>\n",
       "      <td>AMAZON</td>\n",
       "      <td>GATORADE</td>\n",
       "    </tr>\n",
       "  </tbody>\n",
       "</table>\n",
       "</div>"
      ],
      "text/plain": [
       "                                               OFFER            RETAILER  \\\n",
       "0     Spend $50 on a Full-Priced new Club Membership           SAMS CLUB   \n",
       "1       Beyond Meat® Plant-Based products, spend $25         Beyond Meat   \n",
       "2           Good Humor Viennetta Frozen Vanilla Cake          GOOD HUMOR   \n",
       "3  Butterball, select varieties, spend $10 at Dil...  DILLONS FOOD STORE   \n",
       "4  GATORADE® Fast Twitch®, 12-ounce 12 pack, at A...              AMAZON   \n",
       "\n",
       "         BRAND  \n",
       "0    SAMS CLUB  \n",
       "1  BEYOND MEAT  \n",
       "2   GOOD HUMOR  \n",
       "3   BUTTERBALL  \n",
       "4     GATORADE  "
      ]
     },
     "execution_count": 15,
     "metadata": {},
     "output_type": "execute_result"
    }
   ],
   "source": [
    "offer_retailer.update(df)\n",
    "offer_retailer.head()"
   ]
  },
  {
   "cell_type": "code",
   "execution_count": 16,
   "metadata": {},
   "outputs": [
    {
     "data": {
      "text/plain": [
       "OFFER       0\n",
       "RETAILER    0\n",
       "BRAND       0\n",
       "dtype: int64"
      ]
     },
     "execution_count": 16,
     "metadata": {},
     "output_type": "execute_result"
    }
   ],
   "source": [
    "offer_retailer.isnull().sum()"
   ]
  },
  {
   "cell_type": "code",
   "execution_count": 17,
   "metadata": {},
   "outputs": [
    {
     "data": {
      "text/html": [
       "<div>\n",
       "<style scoped>\n",
       "    .dataframe tbody tr th:only-of-type {\n",
       "        vertical-align: middle;\n",
       "    }\n",
       "\n",
       "    .dataframe tbody tr th {\n",
       "        vertical-align: top;\n",
       "    }\n",
       "\n",
       "    .dataframe thead th {\n",
       "        text-align: right;\n",
       "    }\n",
       "</style>\n",
       "<table border=\"1\" class=\"dataframe\">\n",
       "  <thead>\n",
       "    <tr style=\"text-align: right;\">\n",
       "      <th></th>\n",
       "      <th>PRODUCT_CATEGORY</th>\n",
       "      <th>IS_CHILD_CATEGORY_TO</th>\n",
       "    </tr>\n",
       "  </thead>\n",
       "  <tbody>\n",
       "    <tr>\n",
       "      <th>0</th>\n",
       "      <td>Red Pasta Sauce</td>\n",
       "      <td>Pasta Sauce</td>\n",
       "    </tr>\n",
       "    <tr>\n",
       "      <th>1</th>\n",
       "      <td>Alfredo &amp; White Pasta Sauce</td>\n",
       "      <td>Pasta Sauce</td>\n",
       "    </tr>\n",
       "    <tr>\n",
       "      <th>2</th>\n",
       "      <td>Cooking &amp; Baking</td>\n",
       "      <td>Pantry</td>\n",
       "    </tr>\n",
       "    <tr>\n",
       "      <th>3</th>\n",
       "      <td>Packaged Seafood</td>\n",
       "      <td>Pantry</td>\n",
       "    </tr>\n",
       "    <tr>\n",
       "      <th>4</th>\n",
       "      <td>Feminine Hygeine</td>\n",
       "      <td>Health &amp; Wellness</td>\n",
       "    </tr>\n",
       "  </tbody>\n",
       "</table>\n",
       "</div>"
      ],
      "text/plain": [
       "              PRODUCT_CATEGORY IS_CHILD_CATEGORY_TO\n",
       "0              Red Pasta Sauce          Pasta Sauce\n",
       "1  Alfredo & White Pasta Sauce          Pasta Sauce\n",
       "2             Cooking & Baking               Pantry\n",
       "3             Packaged Seafood               Pantry\n",
       "4             Feminine Hygeine    Health & Wellness"
      ]
     },
     "execution_count": 17,
     "metadata": {},
     "output_type": "execute_result"
    }
   ],
   "source": [
    "cat = categories[['PRODUCT_CATEGORY','IS_CHILD_CATEGORY_TO']]\n",
    "cat.head()"
   ]
  },
  {
   "cell_type": "code",
   "execution_count": 18,
   "metadata": {},
   "outputs": [
    {
     "name": "stdout",
     "output_type": "stream",
     "text": [
      "              BRAND BRAND_BELONGS_TO_CATEGORY  RECEIPTS\n",
      "0  CASEYS GEN STORE          Tobacco Products   2950931\n",
      "1  CASEYS GEN STORE                    Mature   2859240\n",
      "2            EQUATE              Hair Removal    893268\n",
      "3         PALMOLIVE               Bath & Body    542562\n",
      "4              DAWN               Bath & Body    301844\n",
      "----------------------------------------------------------------------------------------------------\n",
      "              PRODUCT_CATEGORY IS_CHILD_CATEGORY_TO\n",
      "0              Red Pasta Sauce          Pasta Sauce\n",
      "1  Alfredo & White Pasta Sauce          Pasta Sauce\n",
      "2             Cooking & Baking               Pantry\n",
      "3             Packaged Seafood               Pantry\n",
      "4             Feminine Hygeine    Health & Wellness\n",
      "----------------------------------------------------------------------------------------------------\n",
      "                                               OFFER            RETAILER  \\\n",
      "0     Spend $50 on a Full-Priced new Club Membership           SAMS CLUB   \n",
      "1       Beyond Meat® Plant-Based products, spend $25         Beyond Meat   \n",
      "2           Good Humor Viennetta Frozen Vanilla Cake          GOOD HUMOR   \n",
      "3  Butterball, select varieties, spend $10 at Dil...  DILLONS FOOD STORE   \n",
      "4  GATORADE® Fast Twitch®, 12-ounce 12 pack, at A...              AMAZON   \n",
      "\n",
      "         BRAND  \n",
      "0    SAMS CLUB  \n",
      "1  BEYOND MEAT  \n",
      "2   GOOD HUMOR  \n",
      "3   BUTTERBALL  \n",
      "4     GATORADE  \n"
     ]
    }
   ],
   "source": [
    "print(brand_category.head(5))\n",
    "print('-'*100)\n",
    "print(cat.head(5))\n",
    "print('-'*100)\n",
    "print(offer_retailer.head(5))"
   ]
  },
  {
   "cell_type": "code",
   "execution_count": 19,
   "metadata": {},
   "outputs": [
    {
     "name": "stdout",
     "output_type": "stream",
     "text": [
      "The number of common values  is: 9905\n"
     ]
    }
   ],
   "source": [
    "common_values_count = brand_category['BRAND_BELONGS_TO_CATEGORY'].isin(cat['PRODUCT_CATEGORY']).sum()\n",
    "print(f'The number of common values  is: {common_values_count}')"
   ]
  },
  {
   "cell_type": "code",
   "execution_count": 20,
   "metadata": {},
   "outputs": [
    {
     "name": "stdout",
     "output_type": "stream",
     "text": [
      "9905\n",
      "118\n"
     ]
    }
   ],
   "source": [
    "print(len(brand_category['BRAND_BELONGS_TO_CATEGORY']))\n",
    "print(len(cat['IS_CHILD_CATEGORY_TO']))"
   ]
  },
  {
   "cell_type": "code",
   "execution_count": 21,
   "metadata": {},
   "outputs": [
    {
     "data": {
      "text/html": [
       "<div>\n",
       "<style scoped>\n",
       "    .dataframe tbody tr th:only-of-type {\n",
       "        vertical-align: middle;\n",
       "    }\n",
       "\n",
       "    .dataframe tbody tr th {\n",
       "        vertical-align: top;\n",
       "    }\n",
       "\n",
       "    .dataframe thead th {\n",
       "        text-align: right;\n",
       "    }\n",
       "</style>\n",
       "<table border=\"1\" class=\"dataframe\">\n",
       "  <thead>\n",
       "    <tr style=\"text-align: right;\">\n",
       "      <th></th>\n",
       "      <th>BRAND</th>\n",
       "      <th>BRAND_BELONGS_TO_CATEGORY</th>\n",
       "      <th>RECEIPTS</th>\n",
       "      <th>PRODUCT_CATEGORY</th>\n",
       "      <th>IS_CHILD_CATEGORY_TO</th>\n",
       "    </tr>\n",
       "  </thead>\n",
       "  <tbody>\n",
       "    <tr>\n",
       "      <th>0</th>\n",
       "      <td>CASEYS GEN STORE</td>\n",
       "      <td>Tobacco Products</td>\n",
       "      <td>2950931</td>\n",
       "      <td>Tobacco Products</td>\n",
       "      <td>Mature</td>\n",
       "    </tr>\n",
       "    <tr>\n",
       "      <th>1</th>\n",
       "      <td>RJ REYNOLDS VAPOR</td>\n",
       "      <td>Tobacco Products</td>\n",
       "      <td>21</td>\n",
       "      <td>Tobacco Products</td>\n",
       "      <td>Mature</td>\n",
       "    </tr>\n",
       "    <tr>\n",
       "      <th>2</th>\n",
       "      <td>CASEYS GEN STORE</td>\n",
       "      <td>Mature</td>\n",
       "      <td>2859240</td>\n",
       "      <td>Mature</td>\n",
       "      <td>Mature</td>\n",
       "    </tr>\n",
       "    <tr>\n",
       "      <th>3</th>\n",
       "      <td>EQUATE</td>\n",
       "      <td>Hair Removal</td>\n",
       "      <td>893268</td>\n",
       "      <td>Hair Removal</td>\n",
       "      <td>Health &amp; Wellness</td>\n",
       "    </tr>\n",
       "    <tr>\n",
       "      <th>4</th>\n",
       "      <td>BARBASOL</td>\n",
       "      <td>Hair Removal</td>\n",
       "      <td>283926</td>\n",
       "      <td>Hair Removal</td>\n",
       "      <td>Health &amp; Wellness</td>\n",
       "    </tr>\n",
       "  </tbody>\n",
       "</table>\n",
       "</div>"
      ],
      "text/plain": [
       "               BRAND BRAND_BELONGS_TO_CATEGORY  RECEIPTS  PRODUCT_CATEGORY  \\\n",
       "0   CASEYS GEN STORE          Tobacco Products   2950931  Tobacco Products   \n",
       "1  RJ REYNOLDS VAPOR          Tobacco Products        21  Tobacco Products   \n",
       "2   CASEYS GEN STORE                    Mature   2859240            Mature   \n",
       "3             EQUATE              Hair Removal    893268      Hair Removal   \n",
       "4           BARBASOL              Hair Removal    283926      Hair Removal   \n",
       "\n",
       "  IS_CHILD_CATEGORY_TO  \n",
       "0               Mature  \n",
       "1               Mature  \n",
       "2               Mature  \n",
       "3    Health & Wellness  \n",
       "4    Health & Wellness  "
      ]
     },
     "execution_count": 21,
     "metadata": {},
     "output_type": "execute_result"
    }
   ],
   "source": [
    "# Merge the datasets based on the common column\n",
    "merged_df = brand_category.merge(cat, \n",
    "                                 how='inner',  # Use 'inner' to merge only common values\n",
    "                                 left_on='BRAND_BELONGS_TO_CATEGORY',  # Column from brand_category\n",
    "                                 right_on='PRODUCT_CATEGORY')  # Column from cat\n",
    "\n",
    "merged_df.head()"
   ]
  },
  {
   "cell_type": "code",
   "execution_count": 22,
   "metadata": {},
   "outputs": [
    {
     "data": {
      "text/plain": [
       "BRAND                        0\n",
       "BRAND_BELONGS_TO_CATEGORY    0\n",
       "RECEIPTS                     0\n",
       "PRODUCT_CATEGORY             0\n",
       "IS_CHILD_CATEGORY_TO         0\n",
       "dtype: int64"
      ]
     },
     "execution_count": 22,
     "metadata": {},
     "output_type": "execute_result"
    }
   ],
   "source": [
    "merged_df.isnull().sum()"
   ]
  },
  {
   "cell_type": "code",
   "execution_count": 23,
   "metadata": {},
   "outputs": [
    {
     "name": "stdout",
     "output_type": "stream",
     "text": [
      "               BRAND BRAND_BELONGS_TO_CATEGORY  RECEIPTS  PRODUCT_CATEGORY  \\\n",
      "0   CASEYS GEN STORE          Tobacco Products   2950931  Tobacco Products   \n",
      "1  RJ REYNOLDS VAPOR          Tobacco Products        21  Tobacco Products   \n",
      "2   CASEYS GEN STORE                    Mature   2859240            Mature   \n",
      "3             EQUATE              Hair Removal    893268      Hair Removal   \n",
      "4           BARBASOL              Hair Removal    283926      Hair Removal   \n",
      "\n",
      "  IS_CHILD_CATEGORY_TO  \n",
      "0               Mature  \n",
      "1               Mature  \n",
      "2               Mature  \n",
      "3    Health & Wellness  \n",
      "4    Health & Wellness  \n",
      "----------------------------------------------------------------------------------------------------\n",
      "                                               OFFER            RETAILER  \\\n",
      "0     Spend $50 on a Full-Priced new Club Membership           SAMS CLUB   \n",
      "1       Beyond Meat® Plant-Based products, spend $25         Beyond Meat   \n",
      "2           Good Humor Viennetta Frozen Vanilla Cake          GOOD HUMOR   \n",
      "3  Butterball, select varieties, spend $10 at Dil...  DILLONS FOOD STORE   \n",
      "4  GATORADE® Fast Twitch®, 12-ounce 12 pack, at A...              AMAZON   \n",
      "\n",
      "         BRAND  \n",
      "0    SAMS CLUB  \n",
      "1  BEYOND MEAT  \n",
      "2   GOOD HUMOR  \n",
      "3   BUTTERBALL  \n",
      "4     GATORADE  \n"
     ]
    }
   ],
   "source": [
    "print(merged_df.head())\n",
    "print('-'*100)\n",
    "print(offer_retailer.head())"
   ]
  },
  {
   "cell_type": "code",
   "execution_count": 24,
   "metadata": {},
   "outputs": [
    {
     "name": "stdout",
     "output_type": "stream",
     "text": [
      "The number of common values is: 334\n",
      "------------------------------\n",
      "The number of common values is: 306\n",
      "------------------------------\n",
      "len of merged_df 9905\n",
      "len of offer 384\n",
      "------------------------------\n",
      "8521\n",
      "144\n"
     ]
    }
   ],
   "source": [
    "common_values_count = offer_retailer['BRAND'].isin(merged_df['BRAND']).sum()\n",
    "print(f'The number of common values is: {common_values_count}')\n",
    "print('-'*30)\n",
    "common = merged_df['BRAND'].isin(offer_retailer['BRAND']).sum()\n",
    "print(f'The number of common values is: {common}')\n",
    "print('-'*30)\n",
    "print('len of merged_df',len(merged_df['BRAND']))\n",
    "print('len of offer',len(offer_retailer['BRAND']))\n",
    "print('-'*30)\n",
    "print(merged_df['BRAND'].nunique())\n",
    "print(offer_retailer['BRAND'].nunique())"
   ]
  },
  {
   "cell_type": "code",
   "execution_count": 25,
   "metadata": {},
   "outputs": [
    {
     "data": {
      "text/html": [
       "<div>\n",
       "<style scoped>\n",
       "    .dataframe tbody tr th:only-of-type {\n",
       "        vertical-align: middle;\n",
       "    }\n",
       "\n",
       "    .dataframe tbody tr th {\n",
       "        vertical-align: top;\n",
       "    }\n",
       "\n",
       "    .dataframe thead th {\n",
       "        text-align: right;\n",
       "    }\n",
       "</style>\n",
       "<table border=\"1\" class=\"dataframe\">\n",
       "  <thead>\n",
       "    <tr style=\"text-align: right;\">\n",
       "      <th></th>\n",
       "      <th>BRAND</th>\n",
       "      <th>BRAND_BELONGS_TO_CATEGORY</th>\n",
       "      <th>RECEIPTS</th>\n",
       "      <th>PRODUCT_CATEGORY</th>\n",
       "      <th>IS_CHILD_CATEGORY_TO</th>\n",
       "      <th>OFFER</th>\n",
       "      <th>RETAILER</th>\n",
       "    </tr>\n",
       "  </thead>\n",
       "  <tbody>\n",
       "    <tr>\n",
       "      <th>0</th>\n",
       "      <td>GILLETTE VENUS</td>\n",
       "      <td>Hair Removal</td>\n",
       "      <td>12805</td>\n",
       "      <td>Hair Removal</td>\n",
       "      <td>Health &amp; Wellness</td>\n",
       "      <td>Gillette Venus ® for Pubic Hair &amp; Skin spend $20</td>\n",
       "      <td>Gillette Venus</td>\n",
       "    </tr>\n",
       "    <tr>\n",
       "      <th>1</th>\n",
       "      <td>GILLETTE VENUS</td>\n",
       "      <td>Hair Removal</td>\n",
       "      <td>12805</td>\n",
       "      <td>Hair Removal</td>\n",
       "      <td>Health &amp; Wellness</td>\n",
       "      <td>Gillette Venus ® for Pubic Hair &amp; Skin</td>\n",
       "      <td>Gillette Venus</td>\n",
       "    </tr>\n",
       "    <tr>\n",
       "      <th>2</th>\n",
       "      <td>GILLETTE VENUS</td>\n",
       "      <td>Hair Removal</td>\n",
       "      <td>12805</td>\n",
       "      <td>Hair Removal</td>\n",
       "      <td>Health &amp; Wellness</td>\n",
       "      <td>Gillette Venus ® for Pubic Hair &amp; Skin, spend $20</td>\n",
       "      <td>Gillette Venus</td>\n",
       "    </tr>\n",
       "    <tr>\n",
       "      <th>3</th>\n",
       "      <td>BURTS BEES</td>\n",
       "      <td>Hair Removal</td>\n",
       "      <td>90</td>\n",
       "      <td>Hair Removal</td>\n",
       "      <td>Health &amp; Wellness</td>\n",
       "      <td>Burt's Bees Sensitive Lotions and Creams, sele...</td>\n",
       "      <td>WALMART</td>\n",
       "    </tr>\n",
       "    <tr>\n",
       "      <th>4</th>\n",
       "      <td>BURTS BEES</td>\n",
       "      <td>Hair Removal</td>\n",
       "      <td>90</td>\n",
       "      <td>Hair Removal</td>\n",
       "      <td>Health &amp; Wellness</td>\n",
       "      <td>Burt's Bee's® Facial Wipes, select varieties, ...</td>\n",
       "      <td>WALMART</td>\n",
       "    </tr>\n",
       "  </tbody>\n",
       "</table>\n",
       "</div>"
      ],
      "text/plain": [
       "            BRAND BRAND_BELONGS_TO_CATEGORY  RECEIPTS PRODUCT_CATEGORY  \\\n",
       "0  GILLETTE VENUS              Hair Removal     12805     Hair Removal   \n",
       "1  GILLETTE VENUS              Hair Removal     12805     Hair Removal   \n",
       "2  GILLETTE VENUS              Hair Removal     12805     Hair Removal   \n",
       "3      BURTS BEES              Hair Removal        90     Hair Removal   \n",
       "4      BURTS BEES              Hair Removal        90     Hair Removal   \n",
       "\n",
       "  IS_CHILD_CATEGORY_TO                                              OFFER  \\\n",
       "0    Health & Wellness   Gillette Venus ® for Pubic Hair & Skin spend $20   \n",
       "1    Health & Wellness             Gillette Venus ® for Pubic Hair & Skin   \n",
       "2    Health & Wellness  Gillette Venus ® for Pubic Hair & Skin, spend $20   \n",
       "3    Health & Wellness  Burt's Bees Sensitive Lotions and Creams, sele...   \n",
       "4    Health & Wellness  Burt's Bee's® Facial Wipes, select varieties, ...   \n",
       "\n",
       "          RETAILER  \n",
       "0  Gillette Venus   \n",
       "1  Gillette Venus   \n",
       "2  Gillette Venus   \n",
       "3          WALMART  \n",
       "4          WALMART  "
      ]
     },
     "execution_count": 25,
     "metadata": {},
     "output_type": "execute_result"
    }
   ],
   "source": [
    "data = merged_df.merge(offer_retailer, \n",
    "                                 how='inner',  # Use 'inner' to merge only common values\n",
    "                                 left_on='BRAND',  # Column from brand_category\n",
    "                                 right_on='BRAND')  # Column from cat\n",
    "data.head(5)"
   ]
  },
  {
   "cell_type": "code",
   "execution_count": 26,
   "metadata": {},
   "outputs": [
    {
     "data": {
      "text/html": [
       "<div>\n",
       "<style scoped>\n",
       "    .dataframe tbody tr th:only-of-type {\n",
       "        vertical-align: middle;\n",
       "    }\n",
       "\n",
       "    .dataframe tbody tr th {\n",
       "        vertical-align: top;\n",
       "    }\n",
       "\n",
       "    .dataframe thead th {\n",
       "        text-align: right;\n",
       "    }\n",
       "</style>\n",
       "<table border=\"1\" class=\"dataframe\">\n",
       "  <thead>\n",
       "    <tr style=\"text-align: right;\">\n",
       "      <th></th>\n",
       "      <th>BRAND</th>\n",
       "      <th>PRODUCT_CATEGORY</th>\n",
       "      <th>IS_CHILD_CATEGORY_TO</th>\n",
       "      <th>OFFER</th>\n",
       "      <th>RETAILER</th>\n",
       "    </tr>\n",
       "  </thead>\n",
       "  <tbody>\n",
       "    <tr>\n",
       "      <th>0</th>\n",
       "      <td>GILLETTE VENUS</td>\n",
       "      <td>Hair Removal</td>\n",
       "      <td>Health &amp; Wellness</td>\n",
       "      <td>Gillette Venus ® for Pubic Hair &amp; Skin spend $20</td>\n",
       "      <td>Gillette Venus</td>\n",
       "    </tr>\n",
       "    <tr>\n",
       "      <th>1</th>\n",
       "      <td>GILLETTE VENUS</td>\n",
       "      <td>Hair Removal</td>\n",
       "      <td>Health &amp; Wellness</td>\n",
       "      <td>Gillette Venus ® for Pubic Hair &amp; Skin</td>\n",
       "      <td>Gillette Venus</td>\n",
       "    </tr>\n",
       "    <tr>\n",
       "      <th>2</th>\n",
       "      <td>GILLETTE VENUS</td>\n",
       "      <td>Hair Removal</td>\n",
       "      <td>Health &amp; Wellness</td>\n",
       "      <td>Gillette Venus ® for Pubic Hair &amp; Skin, spend $20</td>\n",
       "      <td>Gillette Venus</td>\n",
       "    </tr>\n",
       "    <tr>\n",
       "      <th>3</th>\n",
       "      <td>BURTS BEES</td>\n",
       "      <td>Hair Removal</td>\n",
       "      <td>Health &amp; Wellness</td>\n",
       "      <td>Burt's Bees Sensitive Lotions and Creams, sele...</td>\n",
       "      <td>WALMART</td>\n",
       "    </tr>\n",
       "    <tr>\n",
       "      <th>4</th>\n",
       "      <td>BURTS BEES</td>\n",
       "      <td>Hair Removal</td>\n",
       "      <td>Health &amp; Wellness</td>\n",
       "      <td>Burt's Bee's® Facial Wipes, select varieties, ...</td>\n",
       "      <td>WALMART</td>\n",
       "    </tr>\n",
       "  </tbody>\n",
       "</table>\n",
       "</div>"
      ],
      "text/plain": [
       "            BRAND PRODUCT_CATEGORY IS_CHILD_CATEGORY_TO  \\\n",
       "0  GILLETTE VENUS     Hair Removal    Health & Wellness   \n",
       "1  GILLETTE VENUS     Hair Removal    Health & Wellness   \n",
       "2  GILLETTE VENUS     Hair Removal    Health & Wellness   \n",
       "3      BURTS BEES     Hair Removal    Health & Wellness   \n",
       "4      BURTS BEES     Hair Removal    Health & Wellness   \n",
       "\n",
       "                                               OFFER         RETAILER  \n",
       "0   Gillette Venus ® for Pubic Hair & Skin spend $20  Gillette Venus   \n",
       "1             Gillette Venus ® for Pubic Hair & Skin  Gillette Venus   \n",
       "2  Gillette Venus ® for Pubic Hair & Skin, spend $20  Gillette Venus   \n",
       "3  Burt's Bees Sensitive Lotions and Creams, sele...          WALMART  \n",
       "4  Burt's Bee's® Facial Wipes, select varieties, ...          WALMART  "
      ]
     },
     "execution_count": 26,
     "metadata": {},
     "output_type": "execute_result"
    }
   ],
   "source": [
    "data = data.drop(['BRAND_BELONGS_TO_CATEGORY','RECEIPTS'],axis=1)\n",
    "data.head()"
   ]
  },
  {
   "cell_type": "code",
   "execution_count": 27,
   "metadata": {},
   "outputs": [
    {
     "data": {
      "text/plain": [
       "BRAND                   0\n",
       "PRODUCT_CATEGORY        0\n",
       "IS_CHILD_CATEGORY_TO    0\n",
       "OFFER                   0\n",
       "RETAILER                0\n",
       "dtype: int64"
      ]
     },
     "execution_count": 27,
     "metadata": {},
     "output_type": "execute_result"
    }
   ],
   "source": [
    "data.isnull().sum()"
   ]
  },
  {
   "cell_type": "code",
   "execution_count": 28,
   "metadata": {},
   "outputs": [
    {
     "data": {
      "text/html": [
       "<div>\n",
       "<style scoped>\n",
       "    .dataframe tbody tr th:only-of-type {\n",
       "        vertical-align: middle;\n",
       "    }\n",
       "\n",
       "    .dataframe tbody tr th {\n",
       "        vertical-align: top;\n",
       "    }\n",
       "\n",
       "    .dataframe thead th {\n",
       "        text-align: right;\n",
       "    }\n",
       "</style>\n",
       "<table border=\"1\" class=\"dataframe\">\n",
       "  <thead>\n",
       "    <tr style=\"text-align: right;\">\n",
       "      <th></th>\n",
       "      <th>BRAND</th>\n",
       "      <th>PRODUCT_CATEGORY</th>\n",
       "      <th>IS_CHILD_CATEGORY_TO</th>\n",
       "      <th>OFFER</th>\n",
       "      <th>RETAILER</th>\n",
       "    </tr>\n",
       "  </thead>\n",
       "  <tbody>\n",
       "    <tr>\n",
       "      <th>0</th>\n",
       "      <td>gillette venus</td>\n",
       "      <td>hair removal</td>\n",
       "      <td>health &amp; wellness</td>\n",
       "      <td>gillette venus ® for pubic hair &amp; skin spend $20</td>\n",
       "      <td>gillette venus</td>\n",
       "    </tr>\n",
       "    <tr>\n",
       "      <th>1</th>\n",
       "      <td>gillette venus</td>\n",
       "      <td>hair removal</td>\n",
       "      <td>health &amp; wellness</td>\n",
       "      <td>gillette venus ® for pubic hair &amp; skin</td>\n",
       "      <td>gillette venus</td>\n",
       "    </tr>\n",
       "    <tr>\n",
       "      <th>2</th>\n",
       "      <td>gillette venus</td>\n",
       "      <td>hair removal</td>\n",
       "      <td>health &amp; wellness</td>\n",
       "      <td>gillette venus ® for pubic hair &amp; skin, spend $20</td>\n",
       "      <td>gillette venus</td>\n",
       "    </tr>\n",
       "    <tr>\n",
       "      <th>3</th>\n",
       "      <td>burts bees</td>\n",
       "      <td>hair removal</td>\n",
       "      <td>health &amp; wellness</td>\n",
       "      <td>burt's bees sensitive lotions and creams, sele...</td>\n",
       "      <td>walmart</td>\n",
       "    </tr>\n",
       "    <tr>\n",
       "      <th>4</th>\n",
       "      <td>burts bees</td>\n",
       "      <td>hair removal</td>\n",
       "      <td>health &amp; wellness</td>\n",
       "      <td>burt's bee's® facial wipes, select varieties, ...</td>\n",
       "      <td>walmart</td>\n",
       "    </tr>\n",
       "  </tbody>\n",
       "</table>\n",
       "</div>"
      ],
      "text/plain": [
       "            BRAND PRODUCT_CATEGORY IS_CHILD_CATEGORY_TO  \\\n",
       "0  gillette venus     hair removal    health & wellness   \n",
       "1  gillette venus     hair removal    health & wellness   \n",
       "2  gillette venus     hair removal    health & wellness   \n",
       "3      burts bees     hair removal    health & wellness   \n",
       "4      burts bees     hair removal    health & wellness   \n",
       "\n",
       "                                               OFFER        RETAILER  \n",
       "0   gillette venus ® for pubic hair & skin spend $20  gillette venus  \n",
       "1             gillette venus ® for pubic hair & skin  gillette venus  \n",
       "2  gillette venus ® for pubic hair & skin, spend $20  gillette venus  \n",
       "3  burt's bees sensitive lotions and creams, sele...         walmart  \n",
       "4  burt's bee's® facial wipes, select varieties, ...         walmart  "
      ]
     },
     "execution_count": 28,
     "metadata": {},
     "output_type": "execute_result"
    }
   ],
   "source": [
    "import re\n",
    "\n",
    "# Function to clean text\n",
    "def clean_text(text):\n",
    "    # Convert text to lowercase\n",
    "    text = text.lower()\n",
    "    # Remove special characters except ® and '\n",
    "    #text = re.sub(r\"[^a-z0-9%$]\", ' ', text)\n",
    "    # Remove extra whitespaces\n",
    "    text = re.sub(r'\\s+', ' ', text).strip()\n",
    "    return text\n",
    "\n",
    "\n",
    "cleaned_data = data.applymap(clean_text)\n",
    "\n",
    "cleaned_data.head()\n"
   ]
  },
  {
   "cell_type": "code",
   "execution_count": 29,
   "metadata": {},
   "outputs": [],
   "source": [
    "cleaned_data.to_csv('data.csv',index=False)"
   ]
  },
  {
   "cell_type": "code",
   "execution_count": 30,
   "metadata": {},
   "outputs": [
    {
     "data": {
      "text/plain": [
       "Index(['BRAND', 'PRODUCT_CATEGORY', 'IS_CHILD_CATEGORY_TO', 'OFFER',\n",
       "       'RETAILER'],\n",
       "      dtype='object')"
      ]
     },
     "execution_count": 30,
     "metadata": {},
     "output_type": "execute_result"
    }
   ],
   "source": [
    "cleaned_data.columns"
   ]
  },
  {
   "cell_type": "code",
   "execution_count": 31,
   "metadata": {},
   "outputs": [
    {
     "data": {
      "text/plain": [
       "0     gillette venus ® for pubic hair & skin spend $20\n",
       "1               gillette venus ® for pubic hair & skin\n",
       "2    gillette venus ® for pubic hair & skin, spend $20\n",
       "3    burt's bees sensitive lotions and creams, sele...\n",
       "4    burt's bee's® facial wipes, select varieties, ...\n",
       "Name: OFFER, dtype: object"
      ]
     },
     "execution_count": 31,
     "metadata": {},
     "output_type": "execute_result"
    }
   ],
   "source": [
    "cleaned_data['OFFER'].head()"
   ]
  },
  {
   "cell_type": "code",
   "execution_count": 32,
   "metadata": {},
   "outputs": [
    {
     "data": {
      "text/plain": [
       "776"
      ]
     },
     "execution_count": 32,
     "metadata": {},
     "output_type": "execute_result"
    }
   ],
   "source": [
    "len(cleaned_data)"
   ]
  },
  {
   "cell_type": "code",
   "execution_count": null,
   "metadata": {},
   "outputs": [],
   "source": []
  }
 ],
 "metadata": {
  "kernelspec": {
   "display_name": "thome",
   "language": "python",
   "name": "python3"
  },
  "language_info": {
   "codemirror_mode": {
    "name": "ipython",
    "version": 3
   },
   "file_extension": ".py",
   "mimetype": "text/x-python",
   "name": "python",
   "nbconvert_exporter": "python",
   "pygments_lexer": "ipython3",
   "version": "3.9.6"
  }
 },
 "nbformat": 4,
 "nbformat_minor": 2
}
